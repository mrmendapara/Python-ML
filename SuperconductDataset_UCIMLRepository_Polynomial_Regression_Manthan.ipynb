{
  "nbformat": 4,
  "nbformat_minor": 0,
  "metadata": {
    "colab": {
      "name": "SuperconductDataset_UCIMLRepository_Polynomial_Regression_Manthan.ipynb",
      "version": "0.3.2",
      "provenance": [],
      "include_colab_link": true
    },
    "kernelspec": {
      "name": "python3",
      "display_name": "Python 3"
    }
  },
  "cells": [
    {
      "cell_type": "markdown",
      "metadata": {
        "id": "view-in-github",
        "colab_type": "text"
      },
      "source": [
        "<a href=\"https://colab.research.google.com/github/mrmendapara/Python-ML/blob/master/SuperconductDataset_UCIMLRepository_Polynomial_Regression_Manthan.ipynb\" target=\"_parent\"><img src=\"https://colab.research.google.com/assets/colab-badge.svg\" alt=\"Open In Colab\"/></a>"
      ]
    },
    {
      "cell_type": "code",
      "metadata": {
        "id": "MzNbqu92HZRG",
        "colab_type": "code",
        "outputId": "8efb050a-ce14-4f5d-8ce2-75825e018487",
        "colab": {
          "base_uri": "https://localhost:8080/",
          "height": 204
        }
      },
      "source": [
        "!wget https://archive.ics.uci.edu/ml/machine-learning-databases/00464/superconduct.zip"
      ],
      "execution_count": 4,
      "outputs": [
        {
          "output_type": "stream",
          "text": [
            "--2019-06-19 17:22:27--  https://archive.ics.uci.edu/ml/machine-learning-databases/00464/superconduct.zip\n",
            "Resolving archive.ics.uci.edu (archive.ics.uci.edu)... 128.195.10.252\n",
            "Connecting to archive.ics.uci.edu (archive.ics.uci.edu)|128.195.10.252|:443... connected.\n",
            "HTTP request sent, awaiting response... 200 OK\n",
            "Length: 8300005 (7.9M) [application/x-httpd-php]\n",
            "Saving to: ‘superconduct.zip’\n",
            "\n",
            "superconduct.zip    100%[===================>]   7.92M  13.0MB/s    in 0.6s    \n",
            "\n",
            "2019-06-19 17:22:27 (13.0 MB/s) - ‘superconduct.zip’ saved [8300005/8300005]\n",
            "\n"
          ],
          "name": "stdout"
        }
      ]
    },
    {
      "cell_type": "code",
      "metadata": {
        "id": "vMsvP_nlHscb",
        "colab_type": "code",
        "outputId": "eec72676-d334-4dd5-dabb-a0cdb5a8287c",
        "colab": {
          "base_uri": "https://localhost:8080/",
          "height": 68
        }
      },
      "source": [
        "!unzip superconduct.zip"
      ],
      "execution_count": 5,
      "outputs": [
        {
          "output_type": "stream",
          "text": [
            "Archive:  superconduct.zip\n",
            "  inflating: unique_m.csv            \n",
            "  inflating: train.csv               \n"
          ],
          "name": "stdout"
        }
      ]
    },
    {
      "cell_type": "code",
      "metadata": {
        "id": "c5PCT2Z8H0tR",
        "colab_type": "code",
        "colab": {}
      },
      "source": [
        "import pandas as pd\n",
        "import numpy as np\n",
        "import matplotlib.pyplot as plt\n",
        "from IPython.display import clear_output\n",
        "import random"
      ],
      "execution_count": 0,
      "outputs": []
    },
    {
      "cell_type": "code",
      "metadata": {
        "id": "jrnewonzH5vO",
        "colab_type": "code",
        "colab": {}
      },
      "source": [
        "data = pd.read_csv(\"train.csv\")"
      ],
      "execution_count": 0,
      "outputs": []
    },
    {
      "cell_type": "code",
      "metadata": {
        "id": "hiA-BWnkV5oY",
        "colab_type": "code",
        "colab": {
          "base_uri": "https://localhost:8080/",
          "height": 34
        },
        "outputId": "e513105b-770b-4eeb-c5a1-51ab5eea21bb"
      },
      "source": [
        "target = data['critical_temp']\n",
        "target = np.array(target)\n",
        "target = target.reshape(1,len(target))\n",
        "target.shape"
      ],
      "execution_count": 9,
      "outputs": [
        {
          "output_type": "execute_result",
          "data": {
            "text/plain": [
              "(1, 21263)"
            ]
          },
          "metadata": {
            "tags": []
          },
          "execution_count": 9
        }
      ]
    },
    {
      "cell_type": "code",
      "metadata": {
        "id": "iP2QYCdxxTGW",
        "colab_type": "code",
        "colab": {
          "base_uri": "https://localhost:8080/",
          "height": 34
        },
        "outputId": "1813de35-eb78-4042-b945-16666b161e1e"
      },
      "source": [
        "feature = data.drop('critical_temp', axis=1).copy()\n",
        "feature = np.array(feature)\n",
        "feature.shape"
      ],
      "execution_count": 10,
      "outputs": [
        {
          "output_type": "execute_result",
          "data": {
            "text/plain": [
              "(21263, 81)"
            ]
          },
          "metadata": {
            "tags": []
          },
          "execution_count": 10
        }
      ]
    },
    {
      "cell_type": "code",
      "metadata": {
        "id": "ORumj2vbx0XN",
        "colab_type": "code",
        "colab": {
          "base_uri": "https://localhost:8080/",
          "height": 34
        },
        "outputId": "d27c01f8-3f42-470b-8eca-5e86cb98f9c0"
      },
      "source": [
        "p = np.random.randint(1,20,len(feature.T))\n",
        "p = p.reshape(len(feature.T),1)\n",
        "p.shape"
      ],
      "execution_count": 20,
      "outputs": [
        {
          "output_type": "execute_result",
          "data": {
            "text/plain": [
              "(81, 1)"
            ]
          },
          "metadata": {
            "tags": []
          },
          "execution_count": 20
        }
      ]
    },
    {
      "cell_type": "code",
      "metadata": {
        "id": "F1QowPy3yKBo",
        "colab_type": "code",
        "colab": {}
      },
      "source": [
        "feature=feature/feature.max()\n",
        "target=target/target.max()"
      ],
      "execution_count": 0,
      "outputs": []
    },
    {
      "cell_type": "code",
      "metadata": {
        "id": "qmlifP8vy1Wi",
        "colab_type": "code",
        "colab": {}
      },
      "source": [
        "def curve(m,x,c):\n",
        "    return np.dot(m,(x.T)**p)+c\n",
        "def error(m,x,c,y):\n",
        "    return np.mean((curve(m,x,c)-y)**2)\n",
        "def der_slope(m,x,c,y):\n",
        "    return 2*np.mean((np.multiply((curve(m,x,c)-y),x.T**p)),axis=1)\n",
        "def der_int(m,x,c,y):\n",
        "    return 2*np.mean(curve(m,x,c)-y)"
      ],
      "execution_count": 0,
      "outputs": []
    },
    {
      "cell_type": "code",
      "metadata": {
        "id": "ydCzGSb0y5h8",
        "colab_type": "code",
        "colab": {
          "base_uri": "https://localhost:8080/",
          "height": 310
        },
        "outputId": "0076134b-c124-4039-9cc2-fd629f76e52a"
      },
      "source": [
        "m = np.random.randn(1,len(feature.T))\n",
        "c = random.random()\n",
        "it=100\n",
        "lr=0.0000000000001\n",
        "cost=[]\n",
        "\n",
        "for i in range(it):\n",
        "    m=m-lr*der_slope(m,feature,c,target)\n",
        "    c=c-lr*der_int(m,feature,c,target)\n",
        "    cost.append(error(m,feature,c,target))\n",
        "    clear_output(True)\n",
        "    print('error:',error(m,feature,c,target))\n",
        "    print('iteration :',i)\n",
        "plt.plot(cost)\n",
        "plt.show()"
      ],
      "execution_count": 22,
      "outputs": [
        {
          "output_type": "stream",
          "text": [
            "error: 0.12479285290821708\n",
            "iteration : 99\n"
          ],
          "name": "stdout"
        },
        {
          "output_type": "display_data",
          "data": {
            "image/png": "[encoded data removed]",
            "text/plain": [
              "<Figure size 432x288 with 1 Axes>"
            ]
          },
          "metadata": {
            "tags": []
          }
        }
      ]
    },
    {
      "cell_type": "code",
      "metadata": {
        "id": "znxvBcTazarZ",
        "colab_type": "code",
        "colab": {}
      },
      "source": [
        ""
      ],
      "execution_count": 0,
      "outputs": []
    }
  ]
}