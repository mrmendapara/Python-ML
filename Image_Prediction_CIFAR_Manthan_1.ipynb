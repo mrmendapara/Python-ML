{
  "nbformat": 4,
  "nbformat_minor": 0,
  "metadata": {
    "colab": {
      "name": "Image_Prediction_CIFAR_Manthan_1.ipynb",
      "version": "0.3.2",
      "provenance": [],
      "include_colab_link": true
    },
    "kernelspec": {
      "name": "python3",
      "display_name": "Python 3"
    }
  },
  "cells": [
    {
      "cell_type": "markdown",
      "metadata": {
        "id": "view-in-github",
        "colab_type": "text"
      },
      "source": [
        "<a href=\"https://colab.research.google.com/github/mrmendapara/Python-ML/blob/master/Image_Prediction_CIFAR_Manthan_1.ipynb\" target=\"_parent\"><img src=\"https://colab.research.google.com/assets/colab-badge.svg\" alt=\"Open In Colab\"/></a>"
      ]
    },
    {
      "cell_type": "code",
      "metadata": {
        "id": "Nxzk0AC_CdLy",
        "colab_type": "code",
        "outputId": "25668d74-33be-4e2d-bd78-36aca5cc22c3",
        "colab": {
          "base_uri": "https://localhost:8080/",
          "height": 68
        }
      },
      "source": [
        "from keras.datasets import cifar10\n",
        "(x_train, y_train), (x_test, y_test) = cifar10.load_data()"
      ],
      "execution_count": 0,
      "outputs": [
        {
          "output_type": "stream",
          "text": [
            "Using TensorFlow backend.\n"
          ],
          "name": "stderr"
        },
        {
          "output_type": "stream",
          "text": [
            "Downloading data from https://www.cs.toronto.edu/~kriz/cifar-10-python.tar.gz\n",
            "170500096/170498071 [==============================] - 3s 0us/step\n"
          ],
          "name": "stdout"
        }
      ]
    },
    {
      "cell_type": "code",
      "metadata": {
        "id": "VYSoPdTgDFUs",
        "colab_type": "code",
        "colab": {}
      },
      "source": [
        "import numpy as np\n",
        "import pandas as pd\n",
        "import random\n",
        "import matplotlib.pyplot as plt\n",
        "from IPython.display import clear_output"
      ],
      "execution_count": 0,
      "outputs": []
    },
    {
      "cell_type": "code",
      "metadata": {
        "id": "aKkESEheCrUi",
        "colab_type": "code",
        "outputId": "7c6cfd32-296e-4feb-fac1-1ff838b607a2",
        "colab": {
          "base_uri": "https://localhost:8080/",
          "height": 286
        }
      },
      "source": [
        "plt.imshow(x_train[10])"
      ],
      "execution_count": 0,
      "outputs": [
        {
          "output_type": "execute_result",
          "data": {
            "text/plain": [
              "<matplotlib.image.AxesImage at 0x7f3d1d51c240>"
            ]
          },
          "metadata": {
            "tags": []
          },
          "execution_count": 5
        },
        {
          "output_type": "display_data",
          "data": {
            "image/png": "[encoded data removed]",
            "text/plain": [
              "<Figure size 432x288 with 1 Axes>"
            ]
          },
          "metadata": {
            "tags": []
          }
        }
      ]
    },
    {
      "cell_type": "code",
      "metadata": {
        "id": "Rl3bV4B7C--8",
        "colab_type": "code",
        "outputId": "b83e24c1-1fd5-49a1-8ff7-789b58ba7844",
        "colab": {
          "base_uri": "https://localhost:8080/",
          "height": 34
        }
      },
      "source": [
        "x_train.shape"
      ],
      "execution_count": 0,
      "outputs": [
        {
          "output_type": "execute_result",
          "data": {
            "text/plain": [
              "(50000, 32, 32, 3)"
            ]
          },
          "metadata": {
            "tags": []
          },
          "execution_count": 6
        }
      ]
    },
    {
      "cell_type": "code",
      "metadata": {
        "id": "5JQ_4Ub0Dmfw",
        "colab_type": "code",
        "outputId": "b6695c4c-a7c6-4d08-b547-859448860bdd",
        "colab": {
          "base_uri": "https://localhost:8080/",
          "height": 136
        }
      },
      "source": [
        "y_train"
      ],
      "execution_count": 0,
      "outputs": [
        {
          "output_type": "execute_result",
          "data": {
            "text/plain": [
              "array([[6],\n",
              "       [9],\n",
              "       [9],\n",
              "       ...,\n",
              "       [9],\n",
              "       [1],\n",
              "       [1]], dtype=uint8)"
            ]
          },
          "metadata": {
            "tags": []
          },
          "execution_count": 7
        }
      ]
    },
    {
      "cell_type": "code",
      "metadata": {
        "id": "tNOkLRepDsgk",
        "colab_type": "code",
        "colab": {}
      },
      "source": [
        "for i in range(0,len(y_train)):\n",
        "  \n",
        "  if(y_train[i][0]==0):\n",
        "    y_train[i][0]=random.randint(0,10)\n",
        "    \n",
        "  if(y_train[i][0]==1):\n",
        "    y_train[i][0]=random.randint(10,20)\n",
        "    \n",
        "  if(y_train[i][0]==2):\n",
        "    y_train[i][0]=random.randint(20,30)\n",
        "    \n",
        "  if(y_train[i][0]==3):\n",
        "    y_train[i][0]=random.randint(30,40)\n",
        "    \n",
        "  if(y_train[i][0]==4):\n",
        "    y_train[i][0]=random.randint(40,50)\n",
        "    \n",
        "  if(y_train[i][0]==5):\n",
        "    y_train[i][0]=random.randint(50,60)\n",
        "    \n",
        "  if(y_train[i][0]==6):\n",
        "    y_train[i][0]=random.randint(60,70)\n",
        "    \n",
        "  if(y_train[i][0]==7):\n",
        "    y_train[i][0]=random.randint(70,80)\n",
        "    \n",
        "  if(y_train[i][0]==8):\n",
        "    y_train[i][0]=random.randint(80,90)\n",
        "    \n",
        "  if(y_train[i][0]==9):\n",
        "    y_train[i][0]=random.randint(90,100)  "
      ],
      "execution_count": 0,
      "outputs": []
    },
    {
      "cell_type": "code",
      "metadata": {
        "id": "6HgW5RAVFMZq",
        "colab_type": "code",
        "colab": {}
      },
      "source": [
        "x_train_flat = []\n",
        "for i in range(0,len(x_train)):\n",
        "  x_train_flat.append(np.ndarray.flatten(x_train[i]))\n",
        " "
      ],
      "execution_count": 0,
      "outputs": []
    },
    {
      "cell_type": "code",
      "metadata": {
        "id": "z7Z0ZMiLGP4I",
        "colab_type": "code",
        "outputId": "ff6784ef-6a49-4acd-aeac-f3492ae50284",
        "colab": {
          "base_uri": "https://localhost:8080/",
          "height": 34
        }
      },
      "source": [
        "print(np.array(x_train_flat).shape)"
      ],
      "execution_count": 0,
      "outputs": [
        {
          "output_type": "stream",
          "text": [
            "(50000, 3072)\n"
          ],
          "name": "stdout"
        }
      ]
    },
    {
      "cell_type": "code",
      "metadata": {
        "id": "sY7wljIsGZN0",
        "colab_type": "code",
        "outputId": "dc10ff54-ec80-4999-ff37-8adfa5146e9f",
        "colab": {
          "base_uri": "https://localhost:8080/",
          "height": 34
        }
      },
      "source": [
        "x_train_flat = np.array(x_train_flat)\n",
        "len(x_train_flat.T)"
      ],
      "execution_count": 0,
      "outputs": [
        {
          "output_type": "execute_result",
          "data": {
            "text/plain": [
              "3072"
            ]
          },
          "metadata": {
            "tags": []
          },
          "execution_count": 15
        }
      ]
    },
    {
      "cell_type": "code",
      "metadata": {
        "id": "EHsJonN-HLU2",
        "colab_type": "code",
        "colab": {}
      },
      "source": [
        "def line_multidim(m,x,c):\n",
        "  return np.dot(m,x.T) + c\n",
        "\n",
        "def error(m,x,c,y):\n",
        "  return np.mean((line_multidim(m,x,c)-y)**2)\n",
        "\n",
        "def derivative_slopes(m,x,c,y):\n",
        "  return 2*np.mean(np.multiply((line_multidim(m,x,c)-y),x.T),axis = 1)\n",
        "\n",
        "def derivative_intercept(m,x,c,y):\n",
        "  return 2*np.mean((line_multidim(m,x,c)-y))\n",
        "\n",
        "def accuracy_pred(error,y):\n",
        "  return 100 - (error/np.mean(y**2))*100"
      ],
      "execution_count": 0,
      "outputs": []
    },
    {
      "cell_type": "code",
      "metadata": {
        "id": "mr07oZzLHVor",
        "colab_type": "code",
        "outputId": "c62b5775-93e5-45ec-a536-cee75f40d7d7",
        "colab": {
          "base_uri": "https://localhost:8080/",
          "height": 34
        }
      },
      "source": [
        "y_train = np.ndarray.flatten(y_train)\n",
        "print(y_train[1:10])"
      ],
      "execution_count": 0,
      "outputs": [
        {
          "output_type": "stream",
          "text": [
            "[93 92 40 18 13 23 80 90 34]\n"
          ],
          "name": "stdout"
        }
      ]
    },
    {
      "cell_type": "code",
      "metadata": {
        "id": "mNO_8J-uHeJn",
        "colab_type": "code",
        "outputId": "8f5c7fe5-414e-492e-beb1-dc294d0bc534",
        "colab": {
          "base_uri": "https://localhost:8080/",
          "height": 310
        }
      },
      "source": [
        "m = np.random.randn(1,len(x_train_flat.T))\n",
        "c = random.random()\n",
        "\n",
        "it = 100\n",
        "lr = 0.000000000000000000000000000001\n",
        "error_array = []\n",
        "\n",
        "for i in range(0,it):\n",
        "  m = m - lr*derivative_slopes(m,x_train_flat,c,y_train)\n",
        "  c = c - lr*derivative_intercept(m,x_train_flat,c,y_train)\n",
        "  error_array.append(error(m,x_train_flat,c,y_train))\n",
        "  clear_output(True)\n",
        "  print(\"Current Error: \",error(m,x_train_flat,c,y_train),\"Current Iteration:\",i)\n",
        "  print(\"Current Accuracy:\",accuracy_pred(error(m,x_train_flat,c,y_train),y_train))\n",
        "  \n",
        "plt.plot(error_array)\n",
        "plt.show()"
      ],
      "execution_count": 0,
      "outputs": [
        {
          "output_type": "stream",
          "text": [
            "Current Error:  110489078.07861103 Current Iteration: 99\n",
            "Current Accuracy: -97111965.8143964\n"
          ],
          "name": "stdout"
        },
        {
          "output_type": "display_data",
          "data": {
            "image/png": "[encoded data removed]",
            "text/plain": [
              "<Figure size 432x288 with 1 Axes>"
            ]
          },
          "metadata": {
            "tags": []
          }
        }
      ]
    }
  ]
}