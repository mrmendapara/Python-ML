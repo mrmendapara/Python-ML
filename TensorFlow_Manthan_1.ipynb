{
  "nbformat": 4,
  "nbformat_minor": 0,
  "metadata": {
    "colab": {
      "name": "TensorFlow_Manthan_1.ipynb",
      "version": "0.3.2",
      "provenance": [],
      "include_colab_link": true
    },
    "kernelspec": {
      "name": "python3",
      "display_name": "Python 3"
    }
  },
  "cells": [
    {
      "cell_type": "markdown",
      "metadata": {
        "id": "view-in-github",
        "colab_type": "text"
      },
      "source": [
        "<a href=\"https://colab.research.google.com/github/mrmendapara/Python-ML/blob/master/TensorFlow_Manthan_1.ipynb\" target=\"_parent\"><img src=\"https://colab.research.google.com/assets/colab-badge.svg\" alt=\"Open In Colab\"/></a>"
      ]
    },
    {
      "cell_type": "code",
      "metadata": {
        "id": "Y-OlHstxDye9",
        "colab_type": "code",
        "colab": {}
      },
      "source": [
        "import pandas as pd\n",
        "import numpy as np\n",
        "import matplotlib.pyplot as plt\n",
        "from IPython.display import clear_output"
      ],
      "execution_count": 0,
      "outputs": []
    },
    {
      "cell_type": "code",
      "metadata": {
        "id": "ouLp3TeQKRzG",
        "colab_type": "code",
        "colab": {
          "base_uri": "https://localhost:8080/",
          "height": 68
        },
        "outputId": "eb6e7980-450d-416f-dfb1-32e2b4305e1e"
      },
      "source": [
        "from keras.datasets import cifar10\n",
        "(x_train, y_train), (x_test, y_test) = cifar10.load_data()"
      ],
      "execution_count": 2,
      "outputs": [
        {
          "output_type": "stream",
          "text": [
            "Using TensorFlow backend.\n"
          ],
          "name": "stderr"
        },
        {
          "output_type": "stream",
          "text": [
            "Downloading data from https://www.cs.toronto.edu/~kriz/cifar-10-python.tar.gz\n",
            "170500096/170498071 [==============================] - 2s 0us/step\n"
          ],
          "name": "stdout"
        }
      ]
    },
    {
      "cell_type": "code",
      "metadata": {
        "id": "4NlT0fwNKXfV",
        "colab_type": "code",
        "colab": {
          "base_uri": "https://localhost:8080/",
          "height": 286
        },
        "outputId": "1615b610-4f0f-4073-976c-d202bcab244b"
      },
      "source": [
        "plt.imshow(x_train[5])"
      ],
      "execution_count": 63,
      "outputs": [
        {
          "output_type": "execute_result",
          "data": {
            "text/plain": [
              "<matplotlib.image.AxesImage at 0x7fe5337d4438>"
            ]
          },
          "metadata": {
            "tags": []
          },
          "execution_count": 63
        },
        {
          "output_type": "display_data",
          "data": {
            "image/png": "[encoded data removed]",
            "text/plain": [
              "<Figure size 432x288 with 1 Axes>"
            ]
          },
          "metadata": {
            "tags": []
          }
        }
      ]
    },
    {
      "cell_type": "code",
      "metadata": {
        "id": "F_F0N4LFKmQs",
        "colab_type": "code",
        "colab": {
          "base_uri": "https://localhost:8080/",
          "height": 34
        },
        "outputId": "70beba99-3c95-4496-fcbb-607b551efb72"
      },
      "source": [
        "x_train.shape"
      ],
      "execution_count": 64,
      "outputs": [
        {
          "output_type": "execute_result",
          "data": {
            "text/plain": [
              "(50000, 32, 32, 3)"
            ]
          },
          "metadata": {
            "tags": []
          },
          "execution_count": 64
        }
      ]
    },
    {
      "cell_type": "code",
      "metadata": {
        "id": "Ah77MieAKvUl",
        "colab_type": "code",
        "colab": {
          "base_uri": "https://localhost:8080/",
          "height": 34
        },
        "outputId": "40772e6a-95a1-4bb5-a24e-64bf34129b5f"
      },
      "source": [
        "y_train.shape"
      ],
      "execution_count": 65,
      "outputs": [
        {
          "output_type": "execute_result",
          "data": {
            "text/plain": [
              "(50000, 1)"
            ]
          },
          "metadata": {
            "tags": []
          },
          "execution_count": 65
        }
      ]
    },
    {
      "cell_type": "code",
      "metadata": {
        "id": "NxM3MjEILOBq",
        "colab_type": "code",
        "colab": {}
      },
      "source": [
        "x_train_flat = []\n",
        "for i in range(0,len(x_train)):\n",
        "  x_train_flat.append(np.ndarray.flatten(x_train[i]))"
      ],
      "execution_count": 0,
      "outputs": []
    },
    {
      "cell_type": "code",
      "metadata": {
        "id": "cXjSuzboLPF7",
        "colab_type": "code",
        "colab": {
          "base_uri": "https://localhost:8080/",
          "height": 34
        },
        "outputId": "963eb60f-001e-4c82-f22d-3a220827fed7"
      },
      "source": [
        "print(np.array(x_train_flat).shape)"
      ],
      "execution_count": 67,
      "outputs": [
        {
          "output_type": "stream",
          "text": [
            "(50000, 3072)\n"
          ],
          "name": "stdout"
        }
      ]
    },
    {
      "cell_type": "code",
      "metadata": {
        "id": "E5_bRNp1LU9z",
        "colab_type": "code",
        "colab": {}
      },
      "source": [
        "target = np.ndarray.flatten(y_train)"
      ],
      "execution_count": 0,
      "outputs": []
    },
    {
      "cell_type": "code",
      "metadata": {
        "id": "eqo9_w08M6X1",
        "colab_type": "code",
        "colab": {}
      },
      "source": [
        "def one_hot(scalar):\n",
        "  temp_arr = [0]*10\n",
        "  temp_arr[scalar] = 1\n",
        "  return temp_arr"
      ],
      "execution_count": 0,
      "outputs": []
    },
    {
      "cell_type": "code",
      "metadata": {
        "id": "PwWGGsCiOWi-",
        "colab_type": "code",
        "colab": {
          "base_uri": "https://localhost:8080/",
          "height": 34
        },
        "outputId": "b58f53da-b9ab-4b43-8ba1-e81a161c8b18"
      },
      "source": [
        "target.shape"
      ],
      "execution_count": 70,
      "outputs": [
        {
          "output_type": "execute_result",
          "data": {
            "text/plain": [
              "(50000,)"
            ]
          },
          "metadata": {
            "tags": []
          },
          "execution_count": 70
        }
      ]
    },
    {
      "cell_type": "code",
      "metadata": {
        "id": "gsmfTx3lOjDP",
        "colab_type": "code",
        "colab": {}
      },
      "source": [
        "Y_oneHot = []\n",
        "\n",
        "for i in range(len(target)):\n",
        "  Y_oneHot.append(one_hot(target[i]))\n",
        "  \n",
        "Y_oneHot = np.array(Y_oneHot)"
      ],
      "execution_count": 0,
      "outputs": []
    },
    {
      "cell_type": "code",
      "metadata": {
        "id": "va3oHizcSa8N",
        "colab_type": "code",
        "colab": {}
      },
      "source": [
        "import tensorflow as tf"
      ],
      "execution_count": 0,
      "outputs": []
    },
    {
      "cell_type": "code",
      "metadata": {
        "id": "pQrQcyvtSgT4",
        "colab_type": "code",
        "colab": {}
      },
      "source": [
        "Num_Features = 3072"
      ],
      "execution_count": 0,
      "outputs": []
    },
    {
      "cell_type": "code",
      "metadata": {
        "id": "2HR95LmtS0VI",
        "colab_type": "code",
        "colab": {}
      },
      "source": [
        "X_PH = tf.placeholder(tf.float64,[None,Num_Features])\n",
        "Y_PH = tf.placeholder(tf.float64,[None,10])"
      ],
      "execution_count": 0,
      "outputs": []
    },
    {
      "cell_type": "code",
      "metadata": {
        "id": "b0nb7nGRS_i-",
        "colab_type": "code",
        "colab": {}
      },
      "source": [
        "M1 = np.random.randn(Num_Features,Num_Features)\n",
        "M1 = tf.Variable(M1)"
      ],
      "execution_count": 0,
      "outputs": []
    },
    {
      "cell_type": "code",
      "metadata": {
        "id": "I_8ARvJoTAkD",
        "colab_type": "code",
        "colab": {
          "base_uri": "https://localhost:8080/",
          "height": 51
        },
        "outputId": "73743cb9-705c-4f61-ceee-b50c2bd8134e"
      },
      "source": [
        "print(\"Data Shape: \",X_PH.shape)\n",
        "print(\"M1 Shape:\",M1.shape)"
      ],
      "execution_count": 76,
      "outputs": [
        {
          "output_type": "stream",
          "text": [
            "Data Shape:  (?, 3072)\n",
            "M1 Shape: (3072, 3072)\n"
          ],
          "name": "stdout"
        }
      ]
    },
    {
      "cell_type": "code",
      "metadata": {
        "id": "3BYw-43hTDlX",
        "colab_type": "code",
        "colab": {}
      },
      "source": [
        "L1Out = tf.nn.sigmoid(tf.matmul(X_PH,M1))"
      ],
      "execution_count": 0,
      "outputs": []
    },
    {
      "cell_type": "code",
      "metadata": {
        "id": "23WJdtM4TJgQ",
        "colab_type": "code",
        "colab": {}
      },
      "source": [
        "M2 = np.random.randn(Num_Features,Num_Features)\n",
        "M2 = tf.Variable(M2)"
      ],
      "execution_count": 0,
      "outputs": []
    },
    {
      "cell_type": "code",
      "metadata": {
        "id": "iuVZahxjTMlL",
        "colab_type": "code",
        "colab": {}
      },
      "source": [
        "L2Out = tf.nn.sigmoid(tf.matmul(L1Out,M2))"
      ],
      "execution_count": 0,
      "outputs": []
    },
    {
      "cell_type": "code",
      "metadata": {
        "id": "T3ZKZ3BBTP7_",
        "colab_type": "code",
        "colab": {}
      },
      "source": [
        "M3 = np.random.randn(Num_Features,Num_Features)\n",
        "M3 = tf.Variable(M3)"
      ],
      "execution_count": 0,
      "outputs": []
    },
    {
      "cell_type": "code",
      "metadata": {
        "id": "t2MbfFVWTTML",
        "colab_type": "code",
        "colab": {}
      },
      "source": [
        "L3Out = tf.nn.sigmoid(tf.matmul(L2Out,M3))"
      ],
      "execution_count": 0,
      "outputs": []
    },
    {
      "cell_type": "code",
      "metadata": {
        "id": "rgNBacUtTV1g",
        "colab_type": "code",
        "colab": {
          "base_uri": "https://localhost:8080/",
          "height": 34
        },
        "outputId": "04259274-3bba-410c-d7d7-7c00fc4b97ba"
      },
      "source": [
        "M4 = np.random.randn(Num_Features,Num_Features)\n",
        "M4 = tf.Variable(M4)\n",
        "L4Out = tf.nn.sigmoid(tf.matmul(L3Out,M4))\n",
        "\n",
        "print(L4Out)\n",
        "\n",
        "M5 = np.random.randn(Num_Features,Num_Features)\n",
        "M5 = tf.Variable(M5)\n",
        "L5Out = tf.nn.sigmoid(tf.matmul(L4Out,M5))\n",
        "\n",
        "M6 = np.random.randn(Num_Features,Num_Features)\n",
        "M6 = tf.Variable(M6)\n",
        "L6Out = tf.nn.sigmoid(tf.matmul(L5Out,M6))"
      ],
      "execution_count": 82,
      "outputs": [
        {
          "output_type": "stream",
          "text": [
            "Tensor(\"Sigmoid_10:0\", shape=(?, 3072), dtype=float64)\n"
          ],
          "name": "stdout"
        }
      ]
    },
    {
      "cell_type": "code",
      "metadata": {
        "id": "UCRGAJQ7TavA",
        "colab_type": "code",
        "colab": {}
      },
      "source": [
        "M7 = np.random.randn(Num_Features,10)\n",
        "M7 = tf.Variable(M7)"
      ],
      "execution_count": 0,
      "outputs": []
    },
    {
      "cell_type": "code",
      "metadata": {
        "id": "qKi3TxKITgZR",
        "colab_type": "code",
        "colab": {}
      },
      "source": [
        "FinalOut = tf.nn.sigmoid(tf.matmul(L6Out,M7))"
      ],
      "execution_count": 0,
      "outputs": []
    },
    {
      "cell_type": "code",
      "metadata": {
        "id": "nGZQvF9TTjLy",
        "colab_type": "code",
        "colab": {
          "base_uri": "https://localhost:8080/",
          "height": 34
        },
        "outputId": "b06ad198-0213-4e29-bf06-ef46255a4c76"
      },
      "source": [
        "FinalOut.shape"
      ],
      "execution_count": 85,
      "outputs": [
        {
          "output_type": "execute_result",
          "data": {
            "text/plain": [
              "TensorShape([Dimension(None), Dimension(10)])"
            ]
          },
          "metadata": {
            "tags": []
          },
          "execution_count": 85
        }
      ]
    },
    {
      "cell_type": "code",
      "metadata": {
        "id": "o_uJO4PdTmX3",
        "colab_type": "code",
        "colab": {}
      },
      "source": [
        "cost = tf.reduce_mean(tf.square(FinalOut - Y_PH))\n",
        "Optimizer = tf.train.AdamOptimizer(learning_rate = 0.001)\n",
        "Minimize_The_Error = Optimizer.minimize(cost)\n",
        "Init = tf.global_variables_initializer()\n",
        "S = tf.Session()\n",
        "S.run(Init)"
      ],
      "execution_count": 0,
      "outputs": []
    },
    {
      "cell_type": "code",
      "metadata": {
        "id": "MvqRMFWyTsIl",
        "colab_type": "code",
        "colab": {
          "base_uri": "https://localhost:8080/",
          "height": 231
        },
        "outputId": "b71d5a04-58e7-4fb7-9c9d-0f844094ee59"
      },
      "source": [
        "from IPython.display import clear_output\n",
        "iterations = 20\n",
        "error = []\n",
        "BATCH_SIZE = 1\n",
        "for i in range(iterations):\n",
        "  random_indices = np.random.randint(0,len(x_train_flat),size = BATCH_SIZE)\n",
        "  FD = {X_PH: np.array(x_train_flat[random_indices]),Y_PH:np.array(Y_oneHot[random_indices])}\n",
        "  S.run(Minimize_The_Error,feed_dict = FD)\n",
        "  error.append(S.run(cost,feed_dict = FD))\n",
        "  clear_output(True)\n",
        "  print(\"Current Iteration:\", i, \"Current Cost: \",S.run(cost,feed_dict = FD))"
      ],
      "execution_count": 87,
      "outputs": [
        {
          "output_type": "error",
          "ename": "TypeError",
          "evalue": "ignored",
          "traceback": [
            "\u001b[0;31m---------------------------------------------------------------------------\u001b[0m",
            "\u001b[0;31mTypeError\u001b[0m                                 Traceback (most recent call last)",
            "\u001b[0;32m<ipython-input-87-58b9c5708f13>\u001b[0m in \u001b[0;36m<module>\u001b[0;34m()\u001b[0m\n\u001b[1;32m      5\u001b[0m \u001b[0;32mfor\u001b[0m \u001b[0mi\u001b[0m \u001b[0;32min\u001b[0m \u001b[0mrange\u001b[0m\u001b[0;34m(\u001b[0m\u001b[0miterations\u001b[0m\u001b[0;34m)\u001b[0m\u001b[0;34m:\u001b[0m\u001b[0;34m\u001b[0m\u001b[0;34m\u001b[0m\u001b[0m\n\u001b[1;32m      6\u001b[0m   \u001b[0mrandom_indices\u001b[0m \u001b[0;34m=\u001b[0m \u001b[0mnp\u001b[0m\u001b[0;34m.\u001b[0m\u001b[0mrandom\u001b[0m\u001b[0;34m.\u001b[0m\u001b[0mrandint\u001b[0m\u001b[0;34m(\u001b[0m\u001b[0;36m0\u001b[0m\u001b[0;34m,\u001b[0m\u001b[0mlen\u001b[0m\u001b[0;34m(\u001b[0m\u001b[0mx_train_flat\u001b[0m\u001b[0;34m)\u001b[0m\u001b[0;34m,\u001b[0m\u001b[0msize\u001b[0m \u001b[0;34m=\u001b[0m \u001b[0mBATCH_SIZE\u001b[0m\u001b[0;34m)\u001b[0m\u001b[0;34m\u001b[0m\u001b[0;34m\u001b[0m\u001b[0m\n\u001b[0;32m----> 7\u001b[0;31m   \u001b[0mFD\u001b[0m \u001b[0;34m=\u001b[0m \u001b[0;34m{\u001b[0m\u001b[0mX_PH\u001b[0m\u001b[0;34m:\u001b[0m \u001b[0mnp\u001b[0m\u001b[0;34m.\u001b[0m\u001b[0marray\u001b[0m\u001b[0;34m(\u001b[0m\u001b[0mx_train_flat\u001b[0m\u001b[0;34m[\u001b[0m\u001b[0mrandom_indices\u001b[0m\u001b[0;34m]\u001b[0m\u001b[0;34m)\u001b[0m\u001b[0;34m,\u001b[0m\u001b[0mY_PH\u001b[0m\u001b[0;34m:\u001b[0m\u001b[0mnp\u001b[0m\u001b[0;34m.\u001b[0m\u001b[0marray\u001b[0m\u001b[0;34m(\u001b[0m\u001b[0mY_oneHot\u001b[0m\u001b[0;34m[\u001b[0m\u001b[0mrandom_indices\u001b[0m\u001b[0;34m]\u001b[0m\u001b[0;34m)\u001b[0m\u001b[0;34m}\u001b[0m\u001b[0;34m\u001b[0m\u001b[0;34m\u001b[0m\u001b[0m\n\u001b[0m\u001b[1;32m      8\u001b[0m   \u001b[0mS\u001b[0m\u001b[0;34m.\u001b[0m\u001b[0mrun\u001b[0m\u001b[0;34m(\u001b[0m\u001b[0mMinimize_The_Error\u001b[0m\u001b[0;34m,\u001b[0m\u001b[0mfeed_dict\u001b[0m \u001b[0;34m=\u001b[0m \u001b[0mFD\u001b[0m\u001b[0;34m)\u001b[0m\u001b[0;34m\u001b[0m\u001b[0;34m\u001b[0m\u001b[0m\n\u001b[1;32m      9\u001b[0m   \u001b[0merror\u001b[0m\u001b[0;34m.\u001b[0m\u001b[0mappend\u001b[0m\u001b[0;34m(\u001b[0m\u001b[0mS\u001b[0m\u001b[0;34m.\u001b[0m\u001b[0mrun\u001b[0m\u001b[0;34m(\u001b[0m\u001b[0mcost\u001b[0m\u001b[0;34m,\u001b[0m\u001b[0mfeed_dict\u001b[0m \u001b[0;34m=\u001b[0m \u001b[0mFD\u001b[0m\u001b[0;34m)\u001b[0m\u001b[0;34m)\u001b[0m\u001b[0;34m\u001b[0m\u001b[0;34m\u001b[0m\u001b[0m\n",
            "\u001b[0;31mTypeError\u001b[0m: only integer scalar arrays can be converted to a scalar index"
          ]
        }
      ]
    },
    {
      "cell_type": "code",
      "metadata": {
        "id": "ULRibfjVTxn-",
        "colab_type": "code",
        "colab": {}
      },
      "source": [
        ""
      ],
      "execution_count": 0,
      "outputs": []
    }
  ]
}